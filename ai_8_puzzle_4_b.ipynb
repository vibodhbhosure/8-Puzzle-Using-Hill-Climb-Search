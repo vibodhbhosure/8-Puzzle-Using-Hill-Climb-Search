{
  "nbformat": 4,
  "nbformat_minor": 0,
  "metadata": {
    "colab": {
      "provenance": [],
      "authorship_tag": "ABX9TyMzqEzumXyefGCjAbwDMPsy",
      "include_colab_link": true
    },
    "kernelspec": {
      "name": "python3",
      "display_name": "Python 3"
    },
    "language_info": {
      "name": "python"
    }
  },
  "cells": [
    {
      "cell_type": "markdown",
      "metadata": {
        "id": "view-in-github",
        "colab_type": "text"
      },
      "source": [
        "<a href=\"https://colab.research.google.com/github/vibodhbhosure/8-Puzzle-Using-Hill-Climb-Search/blob/main/ai_8_puzzle_4_b.ipynb\" target=\"_parent\"><img src=\"https://colab.research.google.com/assets/colab-badge.svg\" alt=\"Open In Colab\"/></a>"
      ]
    },
    {
      "cell_type": "markdown",
      "source": [
        "**8 - Puzzle Solving Using Hill Climb Search**"
      ],
      "metadata": {
        "id": "wY34MQBGqZYu"
      }
    },
    {
      "cell_type": "code",
      "execution_count": null,
      "metadata": {
        "id": "SDfFMeO7f_IF"
      },
      "outputs": [],
      "source": [
        "arr = [2,8,3,1,6,4,7,0,5]\n",
        "finalarr = [1,2,3,8,0,4,7,6,5]"
      ]
    },
    {
      "cell_type": "code",
      "source": [
        "def printarr(board):\n",
        "  print(board[0], \"|\", board[1], \"|\", board[2])\n",
        "  print(board[3], \"|\", board[4], \"|\", board[5])\n",
        "  print(board[6], \"|\", board[7], \"|\", board[8])"
      ],
      "metadata": {
        "id": "jL1fSSI1g0O6"
      },
      "execution_count": null,
      "outputs": []
    },
    {
      "cell_type": "code",
      "source": [
        "def up(board):\n",
        "  index0 = board.index(0)\n",
        "  upele = index0-3\n",
        "  if upele > 0:\n",
        "    temp = board[index0]\n",
        "    board[index0] = board[upele]\n",
        "    board[upele] = temp\n",
        "    return board\n",
        "  else:\n",
        "    return 0"
      ],
      "metadata": {
        "id": "VouQckwqiFFS"
      },
      "execution_count": null,
      "outputs": []
    },
    {
      "cell_type": "code",
      "source": [
        "def down(board):\n",
        "  index0 = board.index(0)\n",
        "  downele = index0+3\n",
        "  if downele < 9:\n",
        "    temp = board[index0]\n",
        "    board[index0] = board[downele]\n",
        "    board[downele] = temp\n",
        "    return board\n",
        "  else:\n",
        "    return 0"
      ],
      "metadata": {
        "id": "SO92eIeckXVX"
      },
      "execution_count": null,
      "outputs": []
    },
    {
      "cell_type": "code",
      "source": [
        "def left(board):\n",
        "  index0 = board.index(0)\n",
        "  leftele = index0-1\n",
        "  if index0 not in [0,3,6]:\n",
        "    temp = board[index0]\n",
        "    board[index0] = board[leftele]\n",
        "    board[leftele] = temp\n",
        "    return board\n",
        "  else:\n",
        "    return 0"
      ],
      "metadata": {
        "id": "Qw751TGRl7Gd"
      },
      "execution_count": null,
      "outputs": []
    },
    {
      "cell_type": "code",
      "source": [
        "def right(board):\n",
        "  index0 = board.index(0)\n",
        "  rightele = index0+1\n",
        "  if index0 not in [2,5,8]:\n",
        "    temp = board[index0]\n",
        "    board[index0] = board[rightele]\n",
        "    board[rightele] = temp\n",
        "    return board\n",
        "  else:\n",
        "    return 0"
      ],
      "metadata": {
        "id": "5jgWMCZInNXZ"
      },
      "execution_count": null,
      "outputs": []
    },
    {
      "cell_type": "code",
      "source": [
        "def calculate_manhattan(board, goal = finalarr):\n",
        "  return sum(abs(b%3 - g%3) + abs(b//3 - g//3)\n",
        "          for b, g in ((board.index(i), goal.index(i)) for i in range(1, 9)))"
      ],
      "metadata": {
        "id": "6VjHcsgvZg4a"
      },
      "execution_count": null,
      "outputs": []
    },
    {
      "cell_type": "code",
      "source": [
        "def possible_moves(board):\n",
        "  moves=[]\n",
        "  if up(board.copy()):\n",
        "    moves.append(\"U\")\n",
        "  if down(board.copy()):\n",
        "    moves.append(\"D\")\n",
        "  if left(board.copy()):\n",
        "    moves.append(\"L\")\n",
        "  if right(board.copy()):\n",
        "    moves.append(\"R\")\n",
        "  return moves"
      ],
      "metadata": {
        "id": "W-_Vnp1kO3Jy"
      },
      "execution_count": null,
      "outputs": []
    },
    {
      "cell_type": "code",
      "source": [
        "print(\"Initial State: \")\n",
        "printarr(arr)\n",
        "print(\"Final State: \")\n",
        "printarr(finalarr)\n",
        "print(\"Start Game!\")\n",
        "open = []\n",
        "close = []\n",
        "X = []\n",
        "open.append(arr)\n",
        "\n",
        "print(\"X = \", X)\n",
        "print(\"Open = \", open)\n",
        "print(\"Close = \", close)\n",
        "print(\"***** Next Iteration *****\")\n",
        "\n",
        "X = open.pop(0)\n",
        "close.append(X)\n",
        "\n",
        "print(\"X = \", X)\n",
        "print(\"Open = \", open)\n",
        "print(\"Close = \", close)\n",
        "print(\"***** Next Iteration *****\")\n",
        "\n",
        "while X != finalarr:\n",
        "  p_moves = possible_moves(X)\n",
        "\n",
        "  for i in p_moves:\n",
        "    if i == \"U\":\n",
        "      if up(X.copy()) not in close:\n",
        "        open.append(up(X.copy()))\n",
        "    elif i == \"D\":\n",
        "      if down(X.copy()) not in close:\n",
        "        open.append(down(X.copy()))\n",
        "    elif i == \"L\":\n",
        "      if left(X.copy()) not in close:\n",
        "        open.append(left(X.copy()))\n",
        "    elif i == \"R\":\n",
        "      if right(X.copy()) not in close:\n",
        "        open.append(right(X.copy()))\n",
        "\n",
        "  print(\"X = \", X)\n",
        "  print(\"Open = \", open)\n",
        "  print(\"Close = \", close)\n",
        "  printarr(X)\n",
        "  print(\"***** Next Iteration *****\")\n",
        "\n",
        "  open.sort(key=calculate_manhattan)\n",
        "  X = open.pop(0)\n",
        "  close.append(X)\n",
        "print(\"Puzzle Solved!\")\n",
        "printarr(X)"
      ],
      "metadata": {
        "colab": {
          "base_uri": "https://localhost:8080/"
        },
        "id": "seAj8fKehibV",
        "outputId": "9dce82f3-22ca-458b-cd3a-f36f3a8326a2"
      },
      "execution_count": null,
      "outputs": [
        {
          "output_type": "stream",
          "name": "stdout",
          "text": [
            "Initial State: \n",
            "2 | 8 | 3\n",
            "1 | 6 | 4\n",
            "7 | 0 | 5\n",
            "Final State: \n",
            "1 | 2 | 3\n",
            "8 | 0 | 4\n",
            "7 | 6 | 5\n",
            "Start Game!\n",
            "X =  []\n",
            "Open =  [[2, 8, 3, 1, 6, 4, 7, 0, 5]]\n",
            "Close =  []\n",
            "***** Next Iteration *****\n",
            "X =  [2, 8, 3, 1, 6, 4, 7, 0, 5]\n",
            "Open =  []\n",
            "Close =  [[2, 8, 3, 1, 6, 4, 7, 0, 5]]\n",
            "***** Next Iteration *****\n",
            "X =  [2, 8, 3, 1, 6, 4, 7, 0, 5]\n",
            "Open =  [[2, 8, 3, 1, 0, 4, 7, 6, 5], [2, 8, 3, 1, 6, 4, 0, 7, 5], [2, 8, 3, 1, 6, 4, 7, 5, 0]]\n",
            "Close =  [[2, 8, 3, 1, 6, 4, 7, 0, 5]]\n",
            "2 | 8 | 3\n",
            "1 | 6 | 4\n",
            "7 | 0 | 5\n",
            "***** Next Iteration *****\n",
            "X =  [2, 8, 3, 1, 0, 4, 7, 6, 5]\n",
            "Open =  [[2, 8, 3, 1, 6, 4, 0, 7, 5], [2, 8, 3, 1, 6, 4, 7, 5, 0], [2, 0, 3, 1, 8, 4, 7, 6, 5], [2, 8, 3, 0, 1, 4, 7, 6, 5], [2, 8, 3, 1, 4, 0, 7, 6, 5]]\n",
            "Close =  [[2, 8, 3, 1, 6, 4, 7, 0, 5], [2, 8, 3, 1, 0, 4, 7, 6, 5]]\n",
            "2 | 8 | 3\n",
            "1 | 0 | 4\n",
            "7 | 6 | 5\n",
            "***** Next Iteration *****\n",
            "X =  [2, 0, 3, 1, 8, 4, 7, 6, 5]\n",
            "Open =  [[2, 8, 3, 0, 1, 4, 7, 6, 5], [2, 8, 3, 1, 4, 0, 7, 6, 5], [2, 8, 3, 1, 6, 4, 0, 7, 5], [2, 8, 3, 1, 6, 4, 7, 5, 0], [0, 2, 3, 1, 8, 4, 7, 6, 5], [2, 3, 0, 1, 8, 4, 7, 6, 5]]\n",
            "Close =  [[2, 8, 3, 1, 6, 4, 7, 0, 5], [2, 8, 3, 1, 0, 4, 7, 6, 5], [2, 0, 3, 1, 8, 4, 7, 6, 5]]\n",
            "2 | 0 | 3\n",
            "1 | 8 | 4\n",
            "7 | 6 | 5\n",
            "***** Next Iteration *****\n",
            "X =  [0, 2, 3, 1, 8, 4, 7, 6, 5]\n",
            "Open =  [[2, 3, 0, 1, 8, 4, 7, 6, 5], [2, 8, 3, 0, 1, 4, 7, 6, 5], [2, 8, 3, 1, 4, 0, 7, 6, 5], [2, 8, 3, 1, 6, 4, 0, 7, 5], [2, 8, 3, 1, 6, 4, 7, 5, 0], [1, 2, 3, 0, 8, 4, 7, 6, 5]]\n",
            "Close =  [[2, 8, 3, 1, 6, 4, 7, 0, 5], [2, 8, 3, 1, 0, 4, 7, 6, 5], [2, 0, 3, 1, 8, 4, 7, 6, 5], [0, 2, 3, 1, 8, 4, 7, 6, 5]]\n",
            "0 | 2 | 3\n",
            "1 | 8 | 4\n",
            "7 | 6 | 5\n",
            "***** Next Iteration *****\n",
            "X =  [1, 2, 3, 0, 8, 4, 7, 6, 5]\n",
            "Open =  [[2, 3, 0, 1, 8, 4, 7, 6, 5], [2, 8, 3, 0, 1, 4, 7, 6, 5], [2, 8, 3, 1, 4, 0, 7, 6, 5], [2, 8, 3, 1, 6, 4, 0, 7, 5], [2, 8, 3, 1, 6, 4, 7, 5, 0], [1, 2, 3, 7, 8, 4, 0, 6, 5], [1, 2, 3, 8, 0, 4, 7, 6, 5]]\n",
            "Close =  [[2, 8, 3, 1, 6, 4, 7, 0, 5], [2, 8, 3, 1, 0, 4, 7, 6, 5], [2, 0, 3, 1, 8, 4, 7, 6, 5], [0, 2, 3, 1, 8, 4, 7, 6, 5], [1, 2, 3, 0, 8, 4, 7, 6, 5]]\n",
            "1 | 2 | 3\n",
            "0 | 8 | 4\n",
            "7 | 6 | 5\n",
            "***** Next Iteration *****\n",
            "Puzzle Solved!\n",
            "1 | 2 | 3\n",
            "8 | 0 | 4\n",
            "7 | 6 | 5\n"
          ]
        }
      ]
    },
    {
      "cell_type": "code",
      "source": [],
      "metadata": {
        "id": "BtV-KiMdiqzx"
      },
      "execution_count": null,
      "outputs": []
    },
    {
      "cell_type": "code",
      "source": [],
      "metadata": {
        "id": "WXQEe5Rhkken"
      },
      "execution_count": null,
      "outputs": []
    }
  ]
}